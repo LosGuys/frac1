{
  "nbformat": 4,
  "nbformat_minor": 0,
  "metadata": {
    "colab": {
      "provenance": [],
      "machine_shape": "hm",
      "gpuType": "A100",
      "authorship_tag": "ABX9TyOjUvkvqpQyRkceXcrHs+dQ",
      "include_colab_link": true
    },
    "kernelspec": {
      "name": "python3",
      "display_name": "Python 3"
    },
    "language_info": {
      "name": "python"
    },
    "accelerator": "GPU"
  },
  "cells": [
    {
      "cell_type": "markdown",
      "metadata": {
        "id": "view-in-github",
        "colab_type": "text"
      },
      "source": [
        "<a href=\"https://colab.research.google.com/github/LosGuys/frac1/blob/main/frac1_Working2.ipynb\" target=\"_parent\"><img src=\"https://colab.research.google.com/assets/colab-badge.svg\" alt=\"Open In Colab\"/></a>"
      ]
    },
    {
      "cell_type": "code",
      "execution_count": null,
      "metadata": {
        "colab": {
          "base_uri": "https://localhost:8080/"
        },
        "id": "mNhTID-NL6Xr",
        "outputId": "382c3546-910b-40a7-9a47-908dcfacbd95"
      },
      "outputs": [
        {
          "output_type": "stream",
          "name": "stdout",
          "text": [
            "Rendering frame 1/2700...\n",
            "Rendering frame 2/2700...\n",
            "Rendering frame 3/2700...\n"
          ]
        }
      ],
      "source": [
        "import numpy as np\n",
        "import cv2\n",
        "from datetime import datetime\n",
        "from numba import jit, cuda\n",
        "import os\n",
        "import subprocess\n",
        "from concurrent.futures import ThreadPoolExecutor\n",
        "\n",
        "@cuda.jit\n",
        "def mandelbrot_gpu(xmin, xmax, ymin, ymax, width, height, max_iter, output):\n",
        "    # Calculate the position in the grid\n",
        "    x, y = cuda.grid(2)\n",
        "    if x < width and y < height:\n",
        "        re = xmin + (x / width) * (xmax - xmin)\n",
        "        im = ymin + (y / height) * (ymax - ymin)\n",
        "        c = complex(re, im)\n",
        "        z = c\n",
        "        for n in range(max_iter):\n",
        "            if abs(z) > 2.0:\n",
        "                break\n",
        "            z = z * z + c\n",
        "        color = 255 - int(n * 255 / max_iter)\n",
        "        r = (color * 9) % 256\n",
        "        g = (color * 7) % 256\n",
        "        b = (color * 5) % 256\n",
        "        output[y, x, 0] = b\n",
        "        output[y, x, 1] = g\n",
        "        output[y, x, 2] = r\n",
        "\n",
        "def generate_frame_gpu(xmin, xmax, ymin, ymax, width, height, max_iter):\n",
        "    # Allocate memory on GPU and CPU\n",
        "    output = np.zeros((height, width, 3), dtype=np.uint8)\n",
        "    d_output = cuda.to_device(output)\n",
        "\n",
        "    # Define thread and block sizes\n",
        "    threads_per_block = (16, 16)\n",
        "    blocks_per_grid_x = (width + threads_per_block[0] - 1) // threads_per_block[0]\n",
        "    blocks_per_grid_y = (height + threads_per_block[1] - 1) // threads_per_block[1]\n",
        "    blocks_per_grid = (blocks_per_grid_x, blocks_per_grid_y)\n",
        "\n",
        "    # Launch the kernel\n",
        "    mandelbrot_gpu[blocks_per_grid, threads_per_block](xmin, xmax, ymin, ymax, width, height, max_iter, d_output)\n",
        "\n",
        "    # Copy the result back to host memory\n",
        "    output = d_output.copy_to_host()\n",
        "    return output\n",
        "\n",
        "def create_video(duration, fps, resolution, max_iter, colormap, zoom_factor=0.95, center=(-0.75, 0), adjust_iter=True):\n",
        "    \"\"\"\n",
        "    Create a zooming Mandelbrot video using GPU acceleration.\n",
        "    \"\"\"\n",
        "    width, height = resolution\n",
        "    frames = int(duration * fps)\n",
        "    xmin, xmax, ymin, ymax = -2.5, 1.5, -2, 2\n",
        "\n",
        "    # Set the initial bounds centered on the provided center\n",
        "    x_center, y_center = center\n",
        "    x_range, y_range = xmax - xmin, ymax - ymin\n",
        "    xmin, xmax = x_center - x_range / 2, x_center + x_range / 2\n",
        "    ymin, ymax = y_center - y_range / 2, y_center + y_range / 2\n",
        "\n",
        "    timestamp = datetime.now().strftime(\"%y.%m.%d_%H.%M.%S\")\n",
        "    filename = f\"mandelbrot_zoom_{timestamp}.mp4\"\n",
        "    video = cv2.VideoWriter(\n",
        "        filename,\n",
        "        cv2.VideoWriter_fourcc(*'mp4v'),\n",
        "        fps,\n",
        "        (width, height)\n",
        "    )\n",
        "\n",
        "    # Generate frames using GPU\n",
        "    for frame in range(frames):\n",
        "        print(f\"Rendering frame {frame + 1}/{frames}...\")\n",
        "\n",
        "        # Dynamically increase max iterations to maintain detail\n",
        "        if adjust_iter:\n",
        "            max_iter = int(max_iter * (1 + frame / (100*frames)))\n",
        "\n",
        "        image = generate_frame_gpu(xmin, xmax, ymin, ymax, width, height, max_iter)\n",
        "        video.write(cv2.cvtColor(image, cv2.COLOR_RGB2BGR))\n",
        "\n",
        "        # Zoom in by shrinking bounds\n",
        "        x_range, y_range = x_range * zoom_factor, y_range * zoom_factor\n",
        "        xmin, xmax = x_center - x_range / 2, x_center + x_range / 2\n",
        "        ymin, ymax = y_center - y_range / 2, y_center + y_range / 2\n",
        "\n",
        "    video.release()\n",
        "    print(f\"Video saved as {filename}!\")\n",
        "\n",
        "if __name__ == \"__main__\":\n",
        "    # Configuration\n",
        "    duration = 90  # seconds\n",
        "    fps = 30       # frames per second\n",
        "    resolution = (1920, 1080)  # width, height (Full HD)\n",
        "    resolution = (480, 270)  # width, height (Speed run)\n",
        "    max_iter = 1000  # initial complexity of the Mandelbrot set\n",
        "    colormap = \"twilight\"  # vibrant color mapping (not used in this GPU approach)\n",
        "    zoom_factor = 0.99  # zooming effect per frame\n",
        "    center = (-0.7436395, 0.131825904205330)  # interesting structured region\n",
        "    adjust_iter = True  # dynamically increase max_iter for better zoom detail\n",
        "\n",
        "    create_video(duration, fps, resolution, max_iter, colormap, zoom_factor, center, adjust_iter)\n",
        "\n",
        "#    subprocess.Popen('explorer '+ os.getcwd())\n"
      ]
    }
  ]
}